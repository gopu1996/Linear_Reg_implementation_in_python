{
 "cells": [
  {
   "cell_type": "code",
   "execution_count": 1,
   "id": "d6098a8a",
   "metadata": {},
   "outputs": [],
   "source": [
    "from math import log\n",
    "import numpy as np\n",
    "import pandas as pd\n",
    "import matplotlib.pyplot as plt"
   ]
  },
  {
   "cell_type": "markdown",
   "id": "e63cb78b",
   "metadata": {},
   "source": [
    "## B1 = b1 = Σ [ (xi – x)(yi – y) ] / Σ [ (xi – x)2].\n",
    "## b = Y - mX\n",
    "\n",
    "Here Y is y hat  (mean of y)\n",
    "Here X is x hat  (mean of x)\n",
    "\n",
    "m represents the slope of the regression.\n",
    "b = y-intercept"
   ]
  },
  {
   "cell_type": "code",
   "execution_count": 3,
   "id": "1cabc66e",
   "metadata": {},
   "outputs": [],
   "source": [
    "class Linear_Reg:\n",
    "    \n",
    "    def __init__(self):\n",
    "        self.m = None\n",
    "        self.b = None\n",
    "        \n",
    "    def fit(self,x_train , y_train):\n",
    "        num = 0;\n",
    "        den = 0;\n",
    "        \n",
    "        for i in range(x_train.shape[0]):\n",
    "            num = num + (x_train[i] - x_train.mean()) * (y_train[i] - y_train.mean())\n",
    "            den = den + (x_train[i] - x_train.mean()) **2\n",
    "        self.m = num/den\n",
    "        self.b =  y_train.mean() - (self.m * x_train.mean())\n",
    "        print(self.m)\n",
    "        print(self.b) \n",
    "            \n",
    "\n",
    "    \n",
    "    def predict(self,x_test):\n",
    "        print(self.m * x_test + self.b)\n",
    "        return self.m * x_test + self.b"
   ]
  },
  {
   "cell_type": "code",
   "execution_count": 4,
   "id": "e31a7c1a",
   "metadata": {
    "scrolled": true
   },
   "outputs": [],
   "source": [
    "df = pd.read_csv(\"./Data/placement_csv/placement.csv\")"
   ]
  },
  {
   "cell_type": "code",
   "execution_count": 5,
   "id": "085d2fc5",
   "metadata": {},
   "outputs": [
    {
     "data": {
      "text/html": [
       "<div>\n",
       "<style scoped>\n",
       "    .dataframe tbody tr th:only-of-type {\n",
       "        vertical-align: middle;\n",
       "    }\n",
       "\n",
       "    .dataframe tbody tr th {\n",
       "        vertical-align: top;\n",
       "    }\n",
       "\n",
       "    .dataframe thead th {\n",
       "        text-align: right;\n",
       "    }\n",
       "</style>\n",
       "<table border=\"1\" class=\"dataframe\">\n",
       "  <thead>\n",
       "    <tr style=\"text-align: right;\">\n",
       "      <th></th>\n",
       "      <th>cgpa</th>\n",
       "      <th>package</th>\n",
       "    </tr>\n",
       "  </thead>\n",
       "  <tbody>\n",
       "    <tr>\n",
       "      <th>0</th>\n",
       "      <td>6.89</td>\n",
       "      <td>3.26</td>\n",
       "    </tr>\n",
       "    <tr>\n",
       "      <th>1</th>\n",
       "      <td>5.12</td>\n",
       "      <td>1.98</td>\n",
       "    </tr>\n",
       "    <tr>\n",
       "      <th>2</th>\n",
       "      <td>7.82</td>\n",
       "      <td>3.25</td>\n",
       "    </tr>\n",
       "    <tr>\n",
       "      <th>3</th>\n",
       "      <td>7.42</td>\n",
       "      <td>3.67</td>\n",
       "    </tr>\n",
       "    <tr>\n",
       "      <th>4</th>\n",
       "      <td>6.94</td>\n",
       "      <td>3.57</td>\n",
       "    </tr>\n",
       "    <tr>\n",
       "      <th>...</th>\n",
       "      <td>...</td>\n",
       "      <td>...</td>\n",
       "    </tr>\n",
       "    <tr>\n",
       "      <th>195</th>\n",
       "      <td>6.93</td>\n",
       "      <td>2.46</td>\n",
       "    </tr>\n",
       "    <tr>\n",
       "      <th>196</th>\n",
       "      <td>5.89</td>\n",
       "      <td>2.57</td>\n",
       "    </tr>\n",
       "    <tr>\n",
       "      <th>197</th>\n",
       "      <td>7.21</td>\n",
       "      <td>3.24</td>\n",
       "    </tr>\n",
       "    <tr>\n",
       "      <th>198</th>\n",
       "      <td>7.63</td>\n",
       "      <td>3.96</td>\n",
       "    </tr>\n",
       "    <tr>\n",
       "      <th>199</th>\n",
       "      <td>6.22</td>\n",
       "      <td>2.33</td>\n",
       "    </tr>\n",
       "  </tbody>\n",
       "</table>\n",
       "<p>200 rows × 2 columns</p>\n",
       "</div>"
      ],
      "text/plain": [
       "     cgpa  package\n",
       "0    6.89     3.26\n",
       "1    5.12     1.98\n",
       "2    7.82     3.25\n",
       "3    7.42     3.67\n",
       "4    6.94     3.57\n",
       "..    ...      ...\n",
       "195  6.93     2.46\n",
       "196  5.89     2.57\n",
       "197  7.21     3.24\n",
       "198  7.63     3.96\n",
       "199  6.22     2.33\n",
       "\n",
       "[200 rows x 2 columns]"
      ]
     },
     "execution_count": 5,
     "metadata": {},
     "output_type": "execute_result"
    }
   ],
   "source": [
    "df"
   ]
  },
  {
   "cell_type": "code",
   "execution_count": 6,
   "id": "866d3ac8",
   "metadata": {},
   "outputs": [
    {
     "data": {
      "text/plain": [
       "Text(0, 0.5, 'Package(in lpa)')"
      ]
     },
     "execution_count": 6,
     "metadata": {},
     "output_type": "execute_result"
    },
    {
     "data": {
      "image/png": "[encoded data removed]",
      "text/plain": [
       "<Figure size 432x288 with 1 Axes>"
      ]
     },
     "metadata": {
      "needs_background": "light"
     },
     "output_type": "display_data"
    }
   ],
   "source": [
    "plt.scatter(df['cgpa'],df['package'])\n",
    "plt.xlabel('CGPA')\n",
    "plt.ylabel('Package(in lpa)')"
   ]
  },
  {
   "cell_type": "code",
   "execution_count": 7,
   "id": "fa3353a6",
   "metadata": {},
   "outputs": [],
   "source": [
    "X = df.iloc[:,0:1].values\n",
    "y = df.iloc[:,1].values"
   ]
  },
  {
   "cell_type": "code",
   "execution_count": 8,
   "id": "ebb492ea",
   "metadata": {},
   "outputs": [],
   "source": [
    "from sklearn.model_selection import train_test_split\n",
    "X_train,X_test,y_train,y_test = train_test_split(X,y,test_size=0.2,random_state=2)"
   ]
  },
  {
   "cell_type": "code",
   "execution_count": 9,
   "id": "fb2170d6",
   "metadata": {},
   "outputs": [],
   "source": [
    "lr = Linear_Reg()"
   ]
  },
  {
   "cell_type": "code",
   "execution_count": 10,
   "id": "664d4ec6",
   "metadata": {},
   "outputs": [
    {
     "name": "stdout",
     "output_type": "stream",
     "text": [
      "[0.55795197]\n",
      "[-0.89611192]\n"
     ]
    }
   ],
   "source": [
    "lr.fit(X_train,y_train)"
   ]
  },
  {
   "cell_type": "code",
   "execution_count": 11,
   "id": "b7966264",
   "metadata": {},
   "outputs": [
    {
     "name": "stdout",
     "output_type": "stream",
     "text": [
      "[[3.89111601]\n",
      " [3.09324469]\n",
      " [2.38464568]\n",
      " [2.57434935]\n",
      " [1.6537286 ]\n",
      " [1.77647803]\n",
      " [2.07219258]\n",
      " [2.93143862]\n",
      " [3.76278706]\n",
      " [2.93701814]\n",
      " [4.09197872]\n",
      " [3.51170867]\n",
      " [2.97049525]\n",
      " [2.40138424]\n",
      " [3.18809652]\n",
      " [3.46707251]\n",
      " [1.94386362]\n",
      " [3.24389172]\n",
      " [2.97607477]\n",
      " [3.41685683]\n",
      " [2.55761079]\n",
      " [3.16577844]\n",
      " [2.85890486]\n",
      " [3.12114229]\n",
      " [3.68467378]\n",
      " [2.8700639 ]\n",
      " [3.49497011]\n",
      " [3.34432308]\n",
      " [3.91901361]\n",
      " [1.96060218]\n",
      " [3.65119666]\n",
      " [3.2104146 ]\n",
      " [3.74046898]\n",
      " [2.7863711 ]\n",
      " [2.78079158]\n",
      " [3.27178932]\n",
      " [3.52844723]\n",
      " [2.61340599]\n",
      " [2.65804215]\n",
      " [2.71383735]]\n"
     ]
    },
    {
     "data": {
      "text/plain": [
       "array([[3.89111601],\n",
       "       [3.09324469],\n",
       "       [2.38464568],\n",
       "       [2.57434935],\n",
       "       [1.6537286 ],\n",
       "       [1.77647803],\n",
       "       [2.07219258],\n",
       "       [2.93143862],\n",
       "       [3.76278706],\n",
       "       [2.93701814],\n",
       "       [4.09197872],\n",
       "       [3.51170867],\n",
       "       [2.97049525],\n",
       "       [2.40138424],\n",
       "       [3.18809652],\n",
       "       [3.46707251],\n",
       "       [1.94386362],\n",
       "       [3.24389172],\n",
       "       [2.97607477],\n",
       "       [3.41685683],\n",
       "       [2.55761079],\n",
       "       [3.16577844],\n",
       "       [2.85890486],\n",
       "       [3.12114229],\n",
       "       [3.68467378],\n",
       "       [2.8700639 ],\n",
       "       [3.49497011],\n",
       "       [3.34432308],\n",
       "       [3.91901361],\n",
       "       [1.96060218],\n",
       "       [3.65119666],\n",
       "       [3.2104146 ],\n",
       "       [3.74046898],\n",
       "       [2.7863711 ],\n",
       "       [2.78079158],\n",
       "       [3.27178932],\n",
       "       [3.52844723],\n",
       "       [2.61340599],\n",
       "       [2.65804215],\n",
       "       [2.71383735]])"
      ]
     },
     "execution_count": 11,
     "metadata": {},
     "output_type": "execute_result"
    }
   ],
   "source": [
    "lr.predict(X_test)"
   ]
  },
  {
   "cell_type": "code",
   "execution_count": 12,
   "id": "2aff9a09",
   "metadata": {},
   "outputs": [
    {
     "name": "stdout",
     "output_type": "stream",
     "text": [
      "[[3.08766517]\n",
      " [4.0863992 ]\n",
      " [2.12798777]\n",
      " [1.94944314]\n",
      " [3.43917491]\n",
      " [2.87564342]\n",
      " [2.94817717]\n",
      " [2.83100726]\n",
      " [3.51728819]\n",
      " [3.50612915]\n",
      " [3.96364977]\n",
      " [3.53960627]\n",
      " [2.79195062]\n",
      " [2.59666743]\n",
      " [2.74731446]\n",
      " [2.68593975]\n",
      " [1.95502266]\n",
      " [2.5018156 ]\n",
      " [2.97049525]\n",
      " [3.03186997]\n",
      " [2.4181228 ]\n",
      " [2.47949752]\n",
      " [2.35674808]\n",
      " [2.42370232]\n",
      " [4.29842095]\n",
      " [2.21726009]\n",
      " [3.50054963]\n",
      " [2.52413367]\n",
      " [3.43359539]\n",
      " [1.80995515]\n",
      " [2.55761079]\n",
      " [3.90227505]\n",
      " [2.49065656]\n",
      " [3.10998325]\n",
      " [1.96060218]\n",
      " [3.22715316]\n",
      " [3.70699186]\n",
      " [3.72373042]\n",
      " [3.08208565]\n",
      " [3.20483508]\n",
      " [2.26189625]\n",
      " [2.4460204 ]\n",
      " [3.57308338]\n",
      " [3.08766517]\n",
      " [2.64130359]\n",
      " [2.94817717]\n",
      " [2.12798777]\n",
      " [2.71383735]\n",
      " [3.39453875]\n",
      " [3.23273268]\n",
      " [3.16577844]\n",
      " [2.42370232]\n",
      " [3.22157364]\n",
      " [2.97049525]\n",
      " [4.11987632]\n",
      " [3.2104146 ]\n",
      " [3.05418805]\n",
      " [2.10566969]\n",
      " [3.322005  ]\n",
      " [3.6902533 ]\n",
      " [2.3623276 ]\n",
      " [2.88680246]\n",
      " [3.11556277]\n",
      " [3.16577844]\n",
      " [2.89238198]\n",
      " [2.51855416]\n",
      " [2.9258591 ]\n",
      " [3.67909426]\n",
      " [2.92027958]\n",
      " [3.21599412]\n",
      " [2.57434935]\n",
      " [2.79195062]\n",
      " [2.0219769 ]\n",
      " [3.12672181]\n",
      " [2.9258591 ]\n",
      " [2.55761079]\n",
      " [3.17693748]\n",
      " [2.54645175]\n",
      " [2.3902252 ]\n",
      " [3.61771954]\n",
      " [3.07092661]\n",
      " [1.48076348]\n",
      " [2.97607477]\n",
      " [2.44044088]\n",
      " [2.84774582]\n",
      " [3.19367604]\n",
      " [4.15893296]\n",
      " [2.50739512]\n",
      " [2.16146489]\n",
      " [2.50739512]\n",
      " [3.322005  ]\n",
      " [3.17135796]\n",
      " [2.3623276 ]\n",
      " [3.27736884]\n",
      " [3.3499026 ]\n",
      " [2.33443   ]\n",
      " [2.23399865]\n",
      " [3.19925556]\n",
      " [4.33747759]\n",
      " [3.51728819]\n",
      " [2.97607477]\n",
      " [3.53402675]\n",
      " [3.74046898]\n",
      " [2.98723381]\n",
      " [2.97049525]\n",
      " [3.07092661]\n",
      " [3.81300273]\n",
      " [3.66793522]\n",
      " [2.81984822]\n",
      " [3.81300273]\n",
      " [3.07650613]\n",
      " [2.61898551]\n",
      " [2.3623276 ]\n",
      " [2.99839285]\n",
      " [3.36106163]\n",
      " [2.25073721]\n",
      " [3.24947124]\n",
      " [4.05292208]\n",
      " [3.47823155]\n",
      " [2.3623276 ]\n",
      " [4.44906798]\n",
      " [3.7739461 ]\n",
      " [3.36106163]\n",
      " [2.62456503]\n",
      " [2.73057591]\n",
      " [3.62887858]\n",
      " [2.49065656]\n",
      " [1.74300091]\n",
      " [3.17693748]\n",
      " [2.73615542]\n",
      " [3.16577844]\n",
      " [2.96491573]\n",
      " [2.64688311]\n",
      " [3.91343409]\n",
      " [3.03744949]\n",
      " [4.27052335]\n",
      " [2.63572407]\n",
      " [2.57434935]\n",
      " [2.97607477]\n",
      " [1.9661817 ]\n",
      " [3.64003762]\n",
      " [2.39580472]\n",
      " [4.14777392]\n",
      " [2.48507704]\n",
      " [3.32758452]\n",
      " [3.62329906]\n",
      " [4.21472815]\n",
      " [2.3623276 ]\n",
      " [3.50612915]\n",
      " [2.80310966]\n",
      " [3.05976757]\n",
      " [2.18936249]\n",
      " [2.8700639 ]\n",
      " [3.35548212]\n",
      " [2.99281333]\n",
      " [3.37780019]\n",
      " [2.52971319]\n",
      " [3.44475443]\n",
      " [3.14903989]\n",
      " [3.93017265]]\n"
     ]
    },
    {
     "data": {
      "text/plain": [
       "Text(0, 0.5, 'Package(in lpa)')"
      ]
     },
     "execution_count": 12,
     "metadata": {},
     "output_type": "execute_result"
    },
    {
     "data": {
      "image/png": "[encoded data removed]",
      "text/plain": [
       "<Figure size 432x288 with 1 Axes>"
      ]
     },
     "metadata": {
      "needs_background": "light"
     },
     "output_type": "display_data"
    }
   ],
   "source": [
    "plt.scatter(df['cgpa'],df['package'])\n",
    "plt.plot(X_train,lr.predict(X_train),color='red')\n",
    "plt.xlabel('CGPA')\n",
    "plt.ylabel('Package(in lpa)')\n"
   ]
  },
  {
   "cell_type": "code",
   "execution_count": 13,
   "id": "06080ca5",
   "metadata": {},
   "outputs": [],
   "source": [
    "from sklearn.linear_model import LinearRegression\n",
    "lr1 = LinearRegression()\n",
    "\n"
   ]
  },
  {
   "cell_type": "code",
   "execution_count": 14,
   "id": "7718bdf6",
   "metadata": {},
   "outputs": [
    {
     "data": {
      "text/plain": [
       "LinearRegression()"
      ]
     },
     "execution_count": 14,
     "metadata": {},
     "output_type": "execute_result"
    }
   ],
   "source": [
    "lr1.fit(X_train,y_train)"
   ]
  },
  {
   "cell_type": "code",
   "execution_count": 15,
   "id": "cfd1e8b7",
   "metadata": {},
   "outputs": [
    {
     "data": {
      "text/plain": [
       "array([3.89111601, 3.09324469, 2.38464568, 2.57434935, 1.6537286 ,\n",
       "       1.77647803, 2.07219258, 2.93143862, 3.76278706, 2.93701814,\n",
       "       4.09197872, 3.51170867, 2.97049525, 2.40138424, 3.18809652,\n",
       "       3.46707251, 1.94386362, 3.24389172, 2.97607477, 3.41685683,\n",
       "       2.55761079, 3.16577844, 2.85890486, 3.12114229, 3.68467378,\n",
       "       2.8700639 , 3.49497011, 3.34432308, 3.91901361, 1.96060218,\n",
       "       3.65119666, 3.2104146 , 3.74046898, 2.7863711 , 2.78079158,\n",
       "       3.27178932, 3.52844723, 2.61340599, 2.65804215, 2.71383735])"
      ]
     },
     "execution_count": 15,
     "metadata": {},
     "output_type": "execute_result"
    }
   ],
   "source": [
    "lr1.predict(X_test)"
   ]
  },
  {
   "cell_type": "code",
   "execution_count": 16,
   "id": "0c516e7f",
   "metadata": {},
   "outputs": [
    {
     "data": {
      "text/plain": [
       "array([4.1 , 3.49, 2.08, 2.33, 1.94, 1.48, 1.86, 3.09, 4.21, 2.87, 3.65,\n",
       "       4.  , 2.89, 2.6 , 2.99, 3.25, 1.86, 3.67, 2.37, 3.42, 2.48, 3.65,\n",
       "       2.6 , 2.83, 4.08, 2.56, 3.58, 3.81, 4.09, 2.01, 3.63, 2.92, 3.51,\n",
       "       1.94, 2.21, 3.34, 3.34, 3.23, 2.01, 2.61])"
      ]
     },
     "execution_count": 16,
     "metadata": {},
     "output_type": "execute_result"
    }
   ],
   "source": [
    "y_test"
   ]
  },
  {
   "cell_type": "markdown",
   "id": "49a96b57",
   "metadata": {},
   "source": [
    "## Multiple Regression \n",
    "\n",
    "𝜷 = (X.T*X)^-1 * X.T*Y"
   ]
  },
  {
   "cell_type": "code",
   "execution_count": 17,
   "id": "7610fdd5",
   "metadata": {},
   "outputs": [],
   "source": [
    "from sklearn.datasets import load_diabetes"
   ]
  },
  {
   "cell_type": "code",
   "execution_count": 19,
   "id": "cc5de806",
   "metadata": {},
   "outputs": [],
   "source": [
    "X,y = load_diabetes(return_X_y = True)"
   ]
  },
  {
   "cell_type": "code",
   "execution_count": 22,
   "id": "fdef37f3",
   "metadata": {},
   "outputs": [],
   "source": [
    "X_mtrain , X_mtest , y_mtrain , y_mtest = train_test_split(X,y, test_size =0.2,random_state =2)"
   ]
  },
  {
   "cell_type": "code",
   "execution_count": 24,
   "id": "67a04bb6",
   "metadata": {},
   "outputs": [
    {
     "name": "stdout",
     "output_type": "stream",
     "text": [
      "(353, 10)\n",
      "(89, 10)\n"
     ]
    }
   ],
   "source": [
    "print(X_mtrain.shape)\n",
    "print(X_mtest.shape)"
   ]
  },
  {
   "cell_type": "code",
   "execution_count": 25,
   "id": "9617d994",
   "metadata": {},
   "outputs": [
    {
     "data": {
      "text/plain": [
       "LinearRegression()"
      ]
     },
     "execution_count": 25,
     "metadata": {},
     "output_type": "execute_result"
    }
   ],
   "source": [
    "lr1.fit(X_mtrain,y_mtrain)"
   ]
  },
  {
   "cell_type": "code",
   "execution_count": 26,
   "id": "a9cf30d7",
   "metadata": {},
   "outputs": [],
   "source": [
    "y_mpred = lr1.predict(X_mtest)"
   ]
  },
  {
   "cell_type": "code",
   "execution_count": 27,
   "id": "dd6e2879",
   "metadata": {},
   "outputs": [
    {
     "data": {
      "text/plain": [
       "array([154.1235067 , 204.81721599, 124.92988001, 106.09339576,\n",
       "       258.53035681, 256.32953702, 118.75258786, 119.52147402,\n",
       "       101.50717468, 190.54137158, 141.70360267, 172.51631204,\n",
       "       174.34089304, 134.81184017, 294.13950798,  94.11403289,\n",
       "       211.97052873, 156.49984762, 134.20709632, 119.62534726,\n",
       "       148.88045343, 165.00378118, 151.09977307, 176.03719872,\n",
       "       133.27651748, 221.29531227, 197.17482787,  96.15923158,\n",
       "        50.26531577, 230.48342249, 242.06266394, 114.1153262 ,\n",
       "        67.0785352 ,  94.53179042, 201.21593262, 167.05306138,\n",
       "       159.87838519, 192.78601513, 114.49291816, 233.4825497 ,\n",
       "       140.82309666, 121.06814332, 192.27431013, 191.13157307,\n",
       "       179.1698153 , 148.35140027, 163.47610288, 276.81203359,\n",
       "       100.17813072, 164.11265163, 255.81074398, 136.94979051,\n",
       "       152.37507828, 107.92662528, 194.21661635,  77.35015426,\n",
       "       118.50951725,  68.38527563, 154.29094022, 162.48905632,\n",
       "       168.36590928, 156.8764705 ,  97.13958436, 238.17121803,\n",
       "       145.46093854, 117.65678691, 168.88768692, 198.38893625,\n",
       "       118.24408332, 124.64831033, 223.17842907, 200.62634508,\n",
       "       129.54591274, 158.1553552 , 154.33593871, 114.47109854,\n",
       "        70.4524892 ,  76.39237963, 172.41319558,  80.56189628,\n",
       "        80.27309695,  89.46135201, 186.21265361, 275.46607679,\n",
       "       208.26816596, 143.7962915 , 291.28438095, 206.32601303,\n",
       "        94.22801028])"
      ]
     },
     "execution_count": 27,
     "metadata": {},
     "output_type": "execute_result"
    }
   ],
   "source": [
    "y_mpred"
   ]
  },
  {
   "cell_type": "code",
   "execution_count": 31,
   "id": "585543c1",
   "metadata": {},
   "outputs": [],
   "source": [
    "from sklearn.metrics import r2_score"
   ]
  },
  {
   "cell_type": "code",
   "execution_count": 33,
   "id": "1fec451e",
   "metadata": {},
   "outputs": [
    {
     "data": {
      "text/plain": [
       "0.4399387660024645"
      ]
     },
     "execution_count": 33,
     "metadata": {},
     "output_type": "execute_result"
    }
   ],
   "source": [
    "r2_score(y_mtest,y_mpred)"
   ]
  },
  {
   "cell_type": "code",
   "execution_count": 34,
   "id": "cc4f7ffa",
   "metadata": {},
   "outputs": [
    {
     "data": {
      "text/plain": [
       "array([  -9.16088483, -205.46225988,  516.68462383,  340.62734108,\n",
       "       -895.54360867,  561.21453306,  153.88478595,  126.73431596,\n",
       "        861.12139955,   52.41982836])"
      ]
     },
     "execution_count": 34,
     "metadata": {},
     "output_type": "execute_result"
    }
   ],
   "source": [
    "lr1.coef_"
   ]
  },
  {
   "cell_type": "code",
   "execution_count": 37,
   "id": "62694f08",
   "metadata": {},
   "outputs": [
    {
     "data": {
      "text/plain": [
       "151.88334520854633"
      ]
     },
     "execution_count": 37,
     "metadata": {},
     "output_type": "execute_result"
    }
   ],
   "source": [
    "lr1.intercept_"
   ]
  },
  {
   "cell_type": "markdown",
   "id": "832a7805",
   "metadata": {},
   "source": [
    "# 𝜷 = (X.T*X)^-1 * X.T*Y\n",
    "        \n",
    "\n",
    "𝐗 =  |1 𝑥1 𝑧1 |        \n",
    "     |1 𝑥2 𝑧2 |\n",
    "     |1 𝑥3 𝑧3 |            \n",
    "     |1 𝑥4 𝑧4 |\n",
    "             \n",
    "\n",
    "\n",
    "\n",
    "\n",
    "𝜷  =  |  𝛽0 |\n",
    "      |  𝛽1 | \n",
    "      |  𝛽2 |  \n",
    "     \n",
    "\n"
   ]
  },
  {
   "cell_type": "code",
   "execution_count": 95,
   "id": "8669733f",
   "metadata": {},
   "outputs": [],
   "source": [
    "class MultipleLinear_Reg:\n",
    "    \n",
    "    def __init__(self,):\n",
    "        self.coef_ = None\n",
    "        self.intercept_ =None\n",
    "        \n",
    "    def fit(self,x_train , y_train):\n",
    "        x_train = np.insert(x_train,0,1 , axis =1)\n",
    "        beta = np.linalg.inv(np.dot(x_train.T,x_train)).dot(x_train.T).dot(y_train)\n",
    "        self.intercept_ = beta[0]\n",
    "        self.coef_ = beta[1:]\n",
    "        print(beta)\n",
    "    \n",
    "    \n",
    "    def predict(self,x_test):\n",
    "        y_pred = np.dot(x_test,self.coef_) + self.intercept_\n",
    "        return y_pred\n",
    "    "
   ]
  },
  {
   "cell_type": "code",
   "execution_count": 96,
   "id": "a73b7a32",
   "metadata": {},
   "outputs": [],
   "source": [
    "mlr = MultipleLinear_Reg()"
   ]
  },
  {
   "cell_type": "code",
   "execution_count": 97,
   "id": "20651d71",
   "metadata": {},
   "outputs": [
    {
     "name": "stdout",
     "output_type": "stream",
     "text": [
      "[ 151.88334521   -9.16088483 -205.46225988  516.68462383  340.62734108\n",
      " -895.54360867  561.21453306  153.88478595  126.73431596  861.12139955\n",
      "   52.41982836]\n"
     ]
    }
   ],
   "source": [
    "mlr.fit(X_mtrain,y_mtrain)"
   ]
  },
  {
   "cell_type": "code",
   "execution_count": 99,
   "id": "823d5745",
   "metadata": {},
   "outputs": [],
   "source": [
    "y_pred_own = mlr.predict(X_mtest)"
   ]
  },
  {
   "cell_type": "code",
   "execution_count": 100,
   "id": "657d8fed",
   "metadata": {},
   "outputs": [
    {
     "data": {
      "text/plain": [
       "0.43993876600246484"
      ]
     },
     "execution_count": 100,
     "metadata": {},
     "output_type": "execute_result"
    }
   ],
   "source": [
    "r2_score(y_mtest,y_pred_own)"
   ]
  },
  {
   "cell_type": "markdown",
   "id": "a2021dfd",
   "metadata": {},
   "source": [
    "## Testing with simple linear regresion data set"
   ]
  },
  {
   "cell_type": "code",
   "execution_count": 101,
   "id": "a4a7af0e",
   "metadata": {},
   "outputs": [
    {
     "name": "stdout",
     "output_type": "stream",
     "text": [
      "[-0.89611192  0.55795197]\n"
     ]
    }
   ],
   "source": [
    "mlr.fit(X_train,y_train)"
   ]
  },
  {
   "cell_type": "code",
   "execution_count": 103,
   "id": "45cb8cdf",
   "metadata": {},
   "outputs": [
    {
     "data": {
      "text/plain": [
       "array([3.89111601, 3.09324469, 2.38464568, 2.57434935, 1.6537286 ,\n",
       "       1.77647803, 2.07219258, 2.93143862, 3.76278706, 2.93701814,\n",
       "       4.09197872, 3.51170867, 2.97049525, 2.40138424, 3.18809652,\n",
       "       3.46707251, 1.94386362, 3.24389172, 2.97607477, 3.41685683,\n",
       "       2.55761079, 3.16577844, 2.85890486, 3.12114229, 3.68467378,\n",
       "       2.8700639 , 3.49497011, 3.34432308, 3.91901361, 1.96060218,\n",
       "       3.65119666, 3.2104146 , 3.74046898, 2.7863711 , 2.78079158,\n",
       "       3.27178932, 3.52844723, 2.61340599, 2.65804215, 2.71383735])"
      ]
     },
     "execution_count": 103,
     "metadata": {},
     "output_type": "execute_result"
    }
   ],
   "source": [
    "mlr.predict(X_test)"
   ]
  },
  {
   "cell_type": "code",
   "execution_count": null,
   "id": "c6f93a45",
   "metadata": {},
   "outputs": [],
   "source": []
  }
 ],
 "metadata": {
  "kernelspec": {
   "display_name": "Python 3",
   "language": "python",
   "name": "python3"
  },
  "language_info": {
   "codemirror_mode": {
    "name": "ipython",
    "version": 3
   },
   "file_extension": ".py",
   "mimetype": "text/x-python",
   "name": "python",
   "nbconvert_exporter": "python",
   "pygments_lexer": "ipython3",
   "version": "3.8.8"
  }
 },
 "nbformat": 4,
 "nbformat_minor": 5
}
